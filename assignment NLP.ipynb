{
 "cells": [
  {
   "cell_type": "code",
   "execution_count": 1,
   "metadata": {},
   "outputs": [],
   "source": [
    "#Import library file that needed \n",
    "import requests # this library is to make HTTP requests to the website\n",
    "import pandas as pd #this library is to make a dataframe with the scraped data\n",
    "from bs4 import BeautifulSoup #this library is to creates a parse tree for parsed pages that can be used to extract data from HTML"
   ]
  },
  {
   "cell_type": "code",
   "execution_count": 2,
   "metadata": {},
   "outputs": [
    {
     "data": {
      "text/plain": [
       "<Response [200]>"
      ]
     },
     "execution_count": 2,
     "metadata": {},
     "output_type": "execute_result"
    }
   ],
   "source": [
    "#check for the page response\n",
    "page = requests.get(\"https://www.imdb.com/title/tt4154756/reviews?ref_=tt_urv.html\")\n",
    "page"
   ]
  },
  {
   "cell_type": "code",
   "execution_count": 3,
   "metadata": {},
   "outputs": [],
   "source": [
    "#insert the data of the pages into soup\n",
    "soup = BeautifulSoup(page.content, 'html.parser')"
   ]
  },
  {
   "cell_type": "code",
   "execution_count": 4,
   "metadata": {},
   "outputs": [
    {
     "data": {
      "text/plain": [
       "[\"Have found myself liking or loving a lot of Marvel's previous work, while finding a few faults with most. It is very easy on the most part to see why they are highly regarded critically, though those more critical of their work have raised criticisms that can be agreed with by me. Loved the first 'Avengers' film, while 'Age of Ultron' was more problematic and generally a lesser Marvel effort though still having a good deal to admire. 'Infinity War' for me was the best one, or the one enjoyed most. Would also go far to say it's one of Marvel's overall best, and a perfect example of how to do a superhero film and how to balance a large cast of characters and a lot going on. Can totally see why it has been so positively reviewed and it deserves the positive hype from personal opinion, though would hesitate in calling it flawless or one of the best films ever. More could have been done with the very end, which felt like it ended a little too suddenly without resolving everything to full effect. It may very well have been leaving room for a follow-up, but to me it's always been dangerous somewhat to do that just in case a follow-up doesn't happen.Scarlett Johansson also has far too little to do, with too short screen-time. Black Widow is the only character to me who felt underdeveloped and Johansson struggles to do much with it.However, the rest of the cast are spot on. A big shout out goes to Josh Brolin, who makes for a menacing and melancholic Thanos. Speaking of Thanos, Marvel have tended to underwhelm with their villains, underwriting them and giving them vague or inconsistent motivations. Thanos is easily one of the best Marvel villains along with Hela, one of the most interesting and of surprising complexity where he is a threat but one can see his point of view.Robert Downey Jnr, Chris Evans and Chris Hemsworth are also standouts of a near-uniformly great all-star cast. There are a lot of characters here, but somehow on the most part it didn't feel like there were too many (a big danger with films with many characters and a trap fallen into quite a lot). They hold a lot of intrigue and manage not to be too sided and true to character. Likewise, the story is very eventful with a busy main story and several subplots. Yet it didn't feel sprawling and managed to make sense and never lose engagement. Basically it's a non-stop thrill-ride and tautly paced, with some reveals that leaves one gasping, twists that genuinely shock, rousing entrances and some of the finest action sequences of any Marvel film or any film recently, that are truly exciting and big in scale without being too noisy or exhausting. The climax is truly epic, in scale, spectacle, thrills and emotion. 'Avengers: Infinity War' hugely impresses in the script too, with snappy banter, hilarious quips (along with 'Thor: Ragnarok' this is one of the funniest Marvel films, Thor has the best of it), tension and an emotional poignancy not seen to this extent or as strongly in Marvel films. It's all intelligently handled and the humour didn't feel misplaced or inappropriate to me, this is a Marvel film that delivers on the spectacle and thrills while also having brains and heart. Marvel never disappoints when it comes to the production values. 'Avengers: Infinity War' is not an exception. It's beautifully and atmospherically designed, slickly filmed and edited and the special effects, not overused or abused, are some of the most extravagant and spectacular for any film seen recently. It's tightly directed and dynamically and rousingly scored. Overall, an excellent film and one of my standout viewings of all the films seen so far from the first half, and overall, of 2018. 9/10 Bethany Cox\",\n",
       " \"So, here we have it: AVENGERS: INFINITY WAR, the Marvel climax to a string of approximately twenty prior movies and considered by many to be the crowning achievement of the genre thus far. And I do admit it makes for a rollocking good time, a two-and-a-half-hour rollercoaster ride of thrills, spills and excellent special effects to tell a story of good and evil, chaos and destruction, with a massive and awesome span across the galaxy. Just seeing all of the returning characters is a delight in itself, and they're all given their own moments to shine. The humour is fast and witty as you'd expect from an Avengers film, and the startling CGI work is endlessly enjoyable. The story ably mixes together character interaction with big battles and showdowns and there's never a slow moment from beginning to end. I can't wait to see the follow-up!\",\n",
       " 'The Avengers face their most powerful opponent yet in Thanos. Thanos is collecting the six Infinity Gems for his Infinity Gauntlet to execute his evil plan. The heroes of the MCU struggle to stop him.It is amazing that this works as well as it does. This could be best described as The Empire Strikes Back portion of the MCU so far. The heroes get their butts kicked from one end of the universe to the other. It ends with a mass disintegration which is honestly even sadder and much darker than TESB. TESB ends bittersweet but this is just dark. Although anybody with a brain would see that the snap will be reversed in some way. There are many deaths that cannot happen which does diminishes the shock value of the ending. They can\\'t kill off Spider-Man because the MCU doesn\\'t even own him. Sony would never let it happen. They also can\\'t kill off Black Panther due to his future movie and more importantly, his new popularity. Obviously, some characters will not make it but I think the vast majority will rise from the dead. The constant death reversals in the MCU saps away the shock value and that\\'s probably this movie\\'s main drawback. If they picked different characters to disintegrate, I might have doubts about reversing it.The advantage of the MCU is that these characters are so familiar that none of them needs introduction. In fact, this one starts from the end of Thor: Ragnarok and is no worst off by it. The relationships are well established. It\\'s great fun to have them run into other heroes they\\'ve never met. Thor joining the Guardians generates a whole lot of hilarity. Drax is especially funny. Quill\\'s insecurities is fun. There is an interesting pairing of Stark and Dr. Strange with Spider-Man as a fun sidekick. Relationships continue to be the strength of this franchise. The heroes are so well defined that the movie can spend its time with the villain. One of this franchise\\'s weakness has always been the lackluster villains but Thanos is allowed to have his character development. His view points and his love for his daughter Gamora give him real depth. In many ways, this is Thanos\\' movie and it is more compelling due to the development.I do have some other minor issues. The giant Dinklage may be oddly cute at first but it\\'s just odd. That section doesn\\'t have the same action as Wakanda. Thor holding open the iris is not much of an action scene. I\\'d rather have that section finish quicker without flipping back and forth there. I would push that section back into the middle. The plan for Vision\\'s stone seems like a low percentage play and his reasoning for sacrificing himself seems much more poetic. There has to be a way to do a \"needs of the many\" scene earlier and end in the same place anyways. Overall, this is well-constructed, well-conceived, and well-made. Despite the darkness, it still has its fun. The plot never stalls. The villains are great. The heroes are never in doubt. The franchise continues to be in good hands.',\n",
       " '\"Avengers: Infinity War\" is the newest addition to the now already long-running Marvel superhero franchise and in my opinion this movie is a definite contender for best installment of all. These 2.5 hours were directed by Anthony and Joe Russo, who started with Community and then entered the Marvel world with Captain America and for this new Avengers movie, they reunited with writers Markus and McFeely. Let me start by saying that I was a bit critical about previous Marvel films, especially Avengers movies as they frequently united way too many characters without properly elaborating on most of them. And the stories about them failing on their own against the villains, but eventually managing to succeed as a team after overcoming their conflicts and differences was gently-speaking not too new or creative. But this one here is different. Almost all characters have their moment to shine really, well Black Widow could have had a little more than that Hulk moment, but she is the exception. Even those they added new now like the Guardians of the Galaxy and the characters from Black Panther add their fair share of material worth seeing. Peter Dinklage is pretty interesting and memorable as a dwarf (yep!), the stories on romance and male friendship are nice to watch too and even Benedict Cumberbatch is tolerable for once.I think that movies, especially superhero films, often stand and fall with their villain and here we have Thanos played by Josh Brolin as the main antagonist and he is just utterly great and memorable. Maybe you could say that his (self-perceived godly) ambition to erase half the planet is a bit too mathematical, but everything else about him is outstanding and I have virtually no doubt that he will end up as one of the most memorable villains of the movie year 2018. Even in his weaker story lines, like the part with his \"daughter\" that does not feel entirely convincing early on, he shines and elevates the material to a level where it really saves this entire part of the movie. So yes huge thumbs-up for Thanos. And another thumbs-up for virtually everybody else. Except Starlord unfortunately because honestly his grief may have been huge, but the how he basically destroyed the Avengers\\' effort that had them close to victory was just ridiculous, so to some extent you can blame him for billions of people dying eventually. Or are they really? I believe there will be a new Avengers movie in 2019 by the same team of writers and directors, so the ending may not be as finite as it seemed to be. You can almost call it a duology. Is all hope really lost? We have to wait a year and see. Honestly I doubt it because there will be a Black Panther 2 for sure at some point, so I guess they will find a way to get things right again for the good guys. It will also be interesting to see if they bring back those who died earlier too, not just those that vanished at the very end.Anyway, this film we have here is one that will make a huge impact come awards season 2018/2019 in all technical categories, especially Visual Effects where it is maybe a lock for an Oscar nomination with a great chance to take home the win. Another thing I would like to say about this film is that it is also a triumph in terms of the comedy, which is not always a success in Marvel works. But here there are some really hilarious scenes and as many bad things as I said about Chris Pratt\\'s character earlier, his banter with Thor is hilarious. And there is a lot more of course. Drax is also amazing in that one scene where he stands there doing nothing. You will recognize many other pretty funny moments when you see them. So what is it that made this film so amazing. I would say it is the script this time. It is bold, daring and not scared of anything while never becoming too absurd or unrealistic (and yes that is possible for superhero films *cough* Deadpool *cough* glad we did not see him in here). But the outcome here is the exact opposite of too many cooks spoiling the broth, both character- and writer-wise. You absolutely do not want to miss out on this one and good thing is you really don\\'t need to have seen any other Avengers or Marvel movie to appreciate the quality we were given with this one. I am truly very curious about the sequel and cannot wait to check it out. This third Avengers movie is my favorite 2018 release at the point of April. And it has a huge chance to stay in the top5, probably top3 until the end of the year. It never dragged, which is always a success for this running time and it gets better by the minute the longer it goes. And the way things turn out eventually reminded me a bit of the last Wolverine film \"Logan\". Happy endings are no longer essential. Realism is what it is all about. Highly highly recommended.',\n",
       " 'When I was a kid just after watching Superman II that one day there will be a film that will have in it, Batman, Superman, Wonder Woman as well as other DC Comics superheroes but it will knocked out of the park by a Marvel film starring the Hulk, Spiderman, Thor, Iron Man and others I would had not believed you. Heck Black Panther did twice more business in the US box office than the Justice League film.Usually villains in superhero films want power just to destroy everything. Thanos the villain wants to bring chaos and destroy what seems half the population of the worlds in order to bring a new order of peace and prosperity. No more starving kids scavenging for food. It is a Nazi way of thinking, we get people in social media platforms who go on about how we need to control the population growth to save the planet. So reduce the population in Africa, in Asia in the Middle East. You know find a way to get rid of those black and brown people! Well Stan Lee who created a lot of the Marvel characters is Jewish and knew about the perils of this Nazi way of thinking.Thanos wants his infinity stones to get ultimate power. You might think he has never loved something or anyone but he need to make sacrifices himself. His quest for the stones sees him battling Thor at the start of the film. Along the way their are casualties which leaves you wondering what will happen to those individual Marvel films in the future.The Russo Brothers have certainly made a film where the various characters from the Marvel universe coming together feel natural and organic. Just look as to how well the Guardians of the Galaxy characters gel with Thor or Tony Stark.They also have made the film so well paced although the running time is a tad overlong. It starts with action scenes and the action scenes crop up in this film relentlessly but we also get humour and brief character moments but always you know this is a comic book adaptation.']"
      ]
     },
     "execution_count": 4,
     "metadata": {},
     "output_type": "execute_result"
    }
   ],
   "source": [
    "#scrap the review from the imported code\n",
    "review = soup.find_all('div',class_='text show-more__control')\n",
    "reviews = []\n",
    "for i in range(5):\n",
    "    dd = review[i].get_text()\n",
    "    reviews.append(dd)\n",
    "reviews"
   ]
  },
  {
   "cell_type": "code",
   "execution_count": 5,
   "metadata": {},
   "outputs": [
    {
     "name": "stdout",
     "output_type": "stream",
     "text": [
      "2 May 2018\n",
      "29 December 2019\n",
      "11 May 2018\n",
      "4 May 2018\n",
      "3 May 2018\n"
     ]
    }
   ],
   "source": [
    "#scrap the reviewing date from the imported code\n",
    "DAT = soup.findAll('span','review-date')\n",
    "dates = []\n",
    "for i in range(5):\n",
    "    date = DAT[i].get_text()\n",
    "    dates.append(date)\n",
    "\n",
    "for i in range(5):\n",
    "  print(dates[i])"
   ]
  },
  {
   "cell_type": "code",
   "execution_count": 6,
   "metadata": {},
   "outputs": [
    {
     "data": {
      "text/plain": [
       "[' Extravagant clash of the titans',\n",
       " ' A rollocking good time',\n",
       " ' in good hands',\n",
       " ' Taking the genre to the next level',\n",
       " ' The Marvel punch']"
      ]
     },
     "execution_count": 6,
     "metadata": {},
     "output_type": "execute_result"
    }
   ],
   "source": [
    "#scrap the title of the review from the imported code\n",
    "title = soup.findAll('div',class_= 'lister-item-content')\n",
    "\n",
    "title123= []\n",
    "for i in range(5):\n",
    "    title1 = title[i].find('a')\n",
    "    title12 = title1.get_text()\n",
    "    title12 = title12.replace(\"\\n\",\"\")# clean the \\n\n",
    "    title123.append(title12)\n",
    "title123"
   ]
  },
  {
   "cell_type": "code",
   "execution_count": 7,
   "metadata": {},
   "outputs": [
    {
     "name": "stdout",
     "output_type": "stream",
     "text": [
      "TheLittleSongbird\n",
      "Leofwine_draca\n",
      "SnoopyStyle\n",
      "Horst_In_Translation\n",
      "Prismark10\n"
     ]
    }
   ],
   "source": [
    "#scrap the Author of the review from the imported code\n",
    "name = soup.findAll('span',class_= 'display-name-link')\n",
    "\n",
    "name1 = []\n",
    "\n",
    "for i in range(5):\n",
    "    namess = name[i].get_text()\n",
    "    name1.append(namess)\n",
    "\n",
    "for i in range(5):\n",
    "  print(name1[i])"
   ]
  },
  {
   "cell_type": "code",
   "execution_count": 8,
   "metadata": {},
   "outputs": [
    {
     "data": {
      "text/plain": [
       "'Avengers: Infinity War (2018)'"
      ]
     },
     "execution_count": 8,
     "metadata": {},
     "output_type": "execute_result"
    }
   ],
   "source": [
    "#scrap the reviewed movie title from the imported code\n",
    "moviename = soup.findAll('h3')\n",
    "mn1 = moviename[0].get_text()\n",
    "mn1\n",
    "mn1 = mn1.replace(\"\\n\", \"\")# clean the \\n\n",
    "mn1 = mn1.replace(\"                 \", \"\")#clear unneeded space\n",
    "mn1 = mn1.replace(\"             \",\"\")#clear unneeded space\n",
    "mn1"
   ]
  },
  {
   "cell_type": "code",
   "execution_count": 11,
   "metadata": {},
   "outputs": [
    {
     "data": {
      "text/html": [
       "<div>\n",
       "<style scoped>\n",
       "    .dataframe tbody tr th:only-of-type {\n",
       "        vertical-align: middle;\n",
       "    }\n",
       "\n",
       "    .dataframe tbody tr th {\n",
       "        vertical-align: top;\n",
       "    }\n",
       "\n",
       "    .dataframe thead th {\n",
       "        text-align: right;\n",
       "    }\n",
       "</style>\n",
       "<table border=\"1\" class=\"dataframe\">\n",
       "  <thead>\n",
       "    <tr style=\"text-align: right;\">\n",
       "      <th></th>\n",
       "      <th>Movie title</th>\n",
       "      <th>Author</th>\n",
       "      <th>Title</th>\n",
       "      <th>Review</th>\n",
       "      <th>Date</th>\n",
       "    </tr>\n",
       "  </thead>\n",
       "  <tbody>\n",
       "    <tr>\n",
       "      <th>0</th>\n",
       "      <td>Avengers: Infinity War (2018)</td>\n",
       "      <td>TheLittleSongbird</td>\n",
       "      <td>Extravagant clash of the titans</td>\n",
       "      <td>Have found myself liking or loving a lot of Ma...</td>\n",
       "      <td>2 May 2018</td>\n",
       "    </tr>\n",
       "    <tr>\n",
       "      <th>1</th>\n",
       "      <td>Avengers: Infinity War (2018)</td>\n",
       "      <td>Leofwine_draca</td>\n",
       "      <td>A rollocking good time</td>\n",
       "      <td>So, here we have it: AVENGERS: INFINITY WAR, t...</td>\n",
       "      <td>29 December 2019</td>\n",
       "    </tr>\n",
       "    <tr>\n",
       "      <th>2</th>\n",
       "      <td>Avengers: Infinity War (2018)</td>\n",
       "      <td>SnoopyStyle</td>\n",
       "      <td>in good hands</td>\n",
       "      <td>The Avengers face their most powerful opponent...</td>\n",
       "      <td>11 May 2018</td>\n",
       "    </tr>\n",
       "    <tr>\n",
       "      <th>3</th>\n",
       "      <td>Avengers: Infinity War (2018)</td>\n",
       "      <td>Horst_In_Translation</td>\n",
       "      <td>Taking the genre to the next level</td>\n",
       "      <td>\"Avengers: Infinity War\" is the newest additio...</td>\n",
       "      <td>4 May 2018</td>\n",
       "    </tr>\n",
       "    <tr>\n",
       "      <th>4</th>\n",
       "      <td>Avengers: Infinity War (2018)</td>\n",
       "      <td>Prismark10</td>\n",
       "      <td>The Marvel punch</td>\n",
       "      <td>When I was a kid just after watching Superman ...</td>\n",
       "      <td>3 May 2018</td>\n",
       "    </tr>\n",
       "  </tbody>\n",
       "</table>\n",
       "</div>"
      ],
      "text/plain": [
       "                     Movie title                Author  \\\n",
       "0  Avengers: Infinity War (2018)     TheLittleSongbird   \n",
       "1  Avengers: Infinity War (2018)        Leofwine_draca   \n",
       "2  Avengers: Infinity War (2018)           SnoopyStyle   \n",
       "3  Avengers: Infinity War (2018)  Horst_In_Translation   \n",
       "4  Avengers: Infinity War (2018)            Prismark10   \n",
       "\n",
       "                                 Title  \\\n",
       "0      Extravagant clash of the titans   \n",
       "1               A rollocking good time   \n",
       "2                        in good hands   \n",
       "3   Taking the genre to the next level   \n",
       "4                     The Marvel punch   \n",
       "\n",
       "                                              Review              Date  \n",
       "0  Have found myself liking or loving a lot of Ma...        2 May 2018  \n",
       "1  So, here we have it: AVENGERS: INFINITY WAR, t...  29 December 2019  \n",
       "2  The Avengers face their most powerful opponent...       11 May 2018  \n",
       "3  \"Avengers: Infinity War\" is the newest additio...        4 May 2018  \n",
       "4  When I was a kid just after watching Superman ...        3 May 2018  "
      ]
     },
     "execution_count": 11,
     "metadata": {},
     "output_type": "execute_result"
    }
   ],
   "source": [
    "#list the scraped data into a dataframe\n",
    "ds = pd.DataFrame({\n",
    "    \"Movie title\":mn1,\n",
    "    \"Author\":name1,\n",
    "    \"Title\": title123,\n",
    "    \"Review\":reviews,\n",
    "    \"Date\":dates\n",
    "})\n",
    "ds"
   ]
  },
  {
   "cell_type": "code",
   "execution_count": 10,
   "metadata": {},
   "outputs": [],
   "source": [
    "#export the data frame into a CSV file\n",
    "ds.to_csv(r'C:\\Users\\kahch\\Downloads\\dataset.csv', index=False)"
   ]
  },
  {
   "cell_type": "code",
   "execution_count": null,
   "metadata": {},
   "outputs": [],
   "source": []
  }
 ],
 "metadata": {
  "interpreter": {
   "hash": "d99fe374d6212b1d03d1bdd77d2e06ce03e0f19505b82506a1771917e2a9df5b"
  },
  "kernelspec": {
   "display_name": "Python 3.9.7 64-bit",
   "name": "python3"
  },
  "language_info": {
   "codemirror_mode": {
    "name": "ipython",
    "version": 3
   },
   "file_extension": ".py",
   "mimetype": "text/x-python",
   "name": "python",
   "nbconvert_exporter": "python",
   "pygments_lexer": "ipython3",
   "version": "3.9.7"
  },
  "orig_nbformat": 4
 },
 "nbformat": 4,
 "nbformat_minor": 2
}
